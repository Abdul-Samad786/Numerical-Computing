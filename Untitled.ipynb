{
 "cells": [
  {
   "cell_type": "code",
   "execution_count": 1,
   "id": "54090074-2197-4714-8f95-da97df04637d",
   "metadata": {},
   "outputs": [
    {
     "data": {
      "text/plain": [
       "'Hello world'"
      ]
     },
     "execution_count": 1,
     "metadata": {},
     "output_type": "execute_result"
    }
   ],
   "source": [
    "'Hello world'"
   ]
  },
  {
   "cell_type": "code",
   "execution_count": null,
   "id": "ebf801e5-8eb0-4d43-8614-5d18a3e315a7",
   "metadata": {},
   "outputs": [],
   "source": []
  },
  {
   "cell_type": "code",
   "execution_count": 2,
   "id": "88057135-87fb-4d54-8102-233ddf4fef94",
   "metadata": {},
   "outputs": [],
   "source": [
    "r=32\n"
   ]
  },
  {
   "cell_type": "code",
   "execution_count": 3,
   "id": "63870d1a-3258-4096-a134-a887851c259d",
   "metadata": {},
   "outputs": [],
   "source": [
    "r='323'"
   ]
  },
  {
   "cell_type": "code",
   "execution_count": 5,
   "id": "aef13ba6-cfd3-4446-b0b7-449cdb51abcc",
   "metadata": {},
   "outputs": [
    {
     "data": {
      "text/plain": [
       "'323332323'"
      ]
     },
     "execution_count": 5,
     "metadata": {},
     "output_type": "execute_result"
    }
   ],
   "source": [
    "r+'332323'\n"
   ]
  },
  {
   "cell_type": "code",
   "execution_count": 6,
   "id": "4ea4e002-5d41-4711-803c-43b5aeb2b7ac",
   "metadata": {},
   "outputs": [
    {
     "data": {
      "text/plain": [
       "'323323'"
      ]
     },
     "execution_count": 6,
     "metadata": {},
     "output_type": "execute_result"
    }
   ],
   "source": [
    "r*2"
   ]
  },
  {
   "cell_type": "code",
   "execution_count": null,
   "id": "601dc7dc-b217-41bd-af36-48a1dde3d7df",
   "metadata": {},
   "outputs": [],
   "source": []
  }
 ],
 "metadata": {
  "kernelspec": {
   "display_name": "Python 3 (ipykernel)",
   "language": "python",
   "name": "python3"
  },
  "language_info": {
   "codemirror_mode": {
    "name": "ipython",
    "version": 3
   },
   "file_extension": ".py",
   "mimetype": "text/x-python",
   "name": "python",
   "nbconvert_exporter": "python",
   "pygments_lexer": "ipython3",
   "version": "3.12.4"
  }
 },
 "nbformat": 4,
 "nbformat_minor": 5
}
