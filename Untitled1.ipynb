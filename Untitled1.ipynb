{
 "cells": [
  {
   "cell_type": "code",
   "execution_count": 23,
   "id": "eba85dff-1f3c-4f15-91d6-df68e530c7d0",
   "metadata": {},
   "outputs": [],
   "source": [
    "import numpy as np"
   ]
  },
  {
   "cell_type": "code",
   "execution_count": 24,
   "id": "0d80b487-14f0-4141-8c97-d4b66314a4b8",
   "metadata": {},
   "outputs": [],
   "source": [
    "def f(x):\n",
    "    return x*x-36"
   ]
  },
  {
   "cell_type": "code",
   "execution_count": 25,
   "id": "4cc9fa7e-1b15-4165-86af-6797e4a43721",
   "metadata": {},
   "outputs": [],
   "source": [
    "derivative=2*0"
   ]
  },
  {
   "cell_type": "code",
   "execution_count": 26,
   "id": "8b2495d3-927f-45a1-b186-dd05add6b7ac",
   "metadata": {},
   "outputs": [],
   "source": [
    "Guess=0"
   ]
  },
  {
   "cell_type": "code",
   "execution_count": 28,
   "id": "38378028-fd41-4b0b-8354-27958deb22d3",
   "metadata": {},
   "outputs": [
    {
     "name": "stdout",
     "output_type": "stream",
     "text": [
      "An error occured\n"
     ]
    }
   ],
   "source": [
    "try:\n",
    "    p2=Guess-((f(2)/derivative))\n",
    "except:\n",
    "    print(\"An error occured\")"
   ]
  },
  {
   "cell_type": "code",
   "execution_count": null,
   "id": "03f73987-5c5a-4582-84b4-7ad08a66ec3e",
   "metadata": {},
   "outputs": [],
   "source": [
    "p2"
   ]
  },
  {
   "cell_type": "code",
   "execution_count": null,
   "id": "ee1c1f7b-d6be-4be0-a790-9e555e5023f2",
   "metadata": {},
   "outputs": [],
   "source": []
  }
 ],
 "metadata": {
  "kernelspec": {
   "display_name": "Python 3 (ipykernel)",
   "language": "python",
   "name": "python3"
  },
  "language_info": {
   "codemirror_mode": {
    "name": "ipython",
    "version": 3
   },
   "file_extension": ".py",
   "mimetype": "text/x-python",
   "name": "python",
   "nbconvert_exporter": "python",
   "pygments_lexer": "ipython3",
   "version": "3.12.4"
  }
 },
 "nbformat": 4,
 "nbformat_minor": 5
}
