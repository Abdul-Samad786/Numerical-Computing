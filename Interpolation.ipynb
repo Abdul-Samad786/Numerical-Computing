{
 "cells": [
  {
   "cell_type": "code",
   "execution_count": 2,
   "id": "ad1d4be7-4dfc-4240-9c31-8adf4c8f1a08",
   "metadata": {},
   "outputs": [
    {
     "name": "stdout",
     "output_type": "stream",
     "text": [
      "Requirement already satisfied: scipy in /home/abdul-samad-tariq/anaconda3/lib/python3.12/site-packages (1.13.1)\n",
      "Requirement already satisfied: numpy<2.3,>=1.22.4 in /home/abdul-samad-tariq/anaconda3/lib/python3.12/site-packages (from scipy) (1.26.4)\n"
     ]
    }
   ],
   "source": [
    "!pip install scipy"
   ]
  },
  {
   "cell_type": "code",
   "execution_count": 3,
   "id": "89ed6fce-21bb-4869-8e82-5ba1529a9efa",
   "metadata": {},
   "outputs": [],
   "source": [
    "from scipy.interpolate import interp1d"
   ]
  },
  {
   "cell_type": "code",
   "execution_count": 4,
   "id": "9bb73205-20d8-4e54-a027-b5c8220ca0df",
   "metadata": {},
   "outputs": [],
   "source": [
    "x=[0,1,2]\n",
    "y=[1,3,2]"
   ]
  },
  {
   "cell_type": "code",
   "execution_count": 5,
   "id": "d49c3a19-be93-43df-b498-198cffe5560a",
   "metadata": {},
   "outputs": [],
   "source": [
    "f=interp1d(x,y)"
   ]
  },
  {
   "cell_type": "code",
   "execution_count": 6,
   "id": "467bfc50-09e2-4611-902e-8cee6768cb6c",
   "metadata": {},
   "outputs": [
    {
     "data": {
      "text/plain": [
       "array(2.5)"
      ]
     },
     "execution_count": 6,
     "metadata": {},
     "output_type": "execute_result"
    }
   ],
   "source": [
    "f(1.5)"
   ]
  },
  {
   "cell_type": "code",
   "execution_count": 7,
   "id": "924ff53c-a193-4243-bdd6-857c79d6cf1c",
   "metadata": {},
   "outputs": [
    {
     "data": {
      "text/plain": [
       "[0, 1, 2]"
      ]
     },
     "execution_count": 7,
     "metadata": {},
     "output_type": "execute_result"
    }
   ],
   "source": [
    "x"
   ]
  },
  {
   "cell_type": "code",
   "execution_count": null,
   "id": "99800a67-002e-4951-b139-ad6dde703745",
   "metadata": {},
   "outputs": [],
   "source": []
  }
 ],
 "metadata": {
  "kernelspec": {
   "display_name": "Python 3 (ipykernel)",
   "language": "python",
   "name": "python3"
  },
  "language_info": {
   "codemirror_mode": {
    "name": "ipython",
    "version": 3
   },
   "file_extension": ".py",
   "mimetype": "text/x-python",
   "name": "python",
   "nbconvert_exporter": "python",
   "pygments_lexer": "ipython3",
   "version": "3.12.4"
  }
 },
 "nbformat": 4,
 "nbformat_minor": 5
}
